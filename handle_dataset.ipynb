{
 "cells": [
  {
   "cell_type": "code",
   "execution_count": 1,
   "metadata": {},
   "outputs": [],
   "source": [
    "import pandas as pd\n",
    "import os\n",
    "\n",
    "df = pd.read_csv('E:\\WeiboSpider\\weibo_senti_100k.csv')\n",
    "grouped = df.groupby('label')\n",
    "\n",
    "for group_name, group_df in grouped:\n",
    "    if group_name == 1:\n",
    "        with open('positive.txt', 'w') as f:\n",
    "            for row in group_df['review']:\n",
    "                f.write(row + '\\n')\n",
    "    elif group_name == 0:\n",
    "        with open('negative.txt', 'w') as f:\n",
    "            for row in group_df['review']:\n",
    "                f.write(row + '\\n')\n",
    "\n"
   ]
  },
  {
   "cell_type": "code",
   "execution_count": null,
   "metadata": {},
   "outputs": [],
   "source": [
    "complete_n = \"Negative\"\n",
    "complete_p = \"Positive\"\n",
    "prompt = \"\""
   ]
  },
  {
   "cell_type": "code",
   "execution_count": 19,
   "metadata": {},
   "outputs": [
    {
     "name": "stdout",
     "output_type": "stream",
     "text": [
      "2000 2000\n"
     ]
    }
   ],
   "source": [
    "import random\n",
    "import linecache\n",
    "\n",
    "# 从positive.txt中随机读取1100行数据\n",
    "positive_data = []\n",
    "with open('positive.txt', 'r') as f:\n",
    "    num_lines = sum(1 for line in f)\n",
    "    random_lines = random.sample(range(1, num_lines+1), 2000) # 生成1100个不重复的随机行数\n",
    "    for line_num in random_lines:\n",
    "        line = linecache.getline('positive.txt', line_num)\n",
    "        positive_data.append(line.strip())\n",
    "\n",
    "# 从negative.txt中随机读取1100行数据\n",
    "negative_data = []\n",
    "with open('negative.txt', 'r') as f:\n",
    "    num_lines = sum(1 for line in f)\n",
    "    random_lines = random.sample(range(1, num_lines+1), 2000) # 生成1100个不重复的随机行数\n",
    "    for line_num in random_lines:\n",
    "        line = linecache.getline('negative.txt', line_num)\n",
    "        negative_data.append(line.strip())\n",
    "\n",
    "# 打印结果\n",
    "print(len(positive_data), len(negative_data))\n"
   ]
  },
  {
   "cell_type": "code",
   "execution_count": 24,
   "metadata": {},
   "outputs": [
    {
     "data": {
      "text/html": [
       "<div>\n",
       "<style scoped>\n",
       "    .dataframe tbody tr th:only-of-type {\n",
       "        vertical-align: middle;\n",
       "    }\n",
       "\n",
       "    .dataframe tbody tr th {\n",
       "        vertical-align: top;\n",
       "    }\n",
       "\n",
       "    .dataframe thead th {\n",
       "        text-align: right;\n",
       "    }\n",
       "</style>\n",
       "<table border=\"1\" class=\"dataframe\">\n",
       "  <thead>\n",
       "    <tr style=\"text-align: right;\">\n",
       "      <th></th>\n",
       "      <th>prompt</th>\n",
       "      <th>completion</th>\n",
       "    </tr>\n",
       "  </thead>\n",
       "  <tbody>\n",
       "    <tr>\n",
       "      <th>0</th>\n",
       "      <td>//@如花减肥日记：被萌死了[哈哈] 大家一起来做~猫咪广播体操~&lt;(￣V￣)&gt;~</td>\n",
       "      <td>positive</td>\n",
       "    </tr>\n",
       "    <tr>\n",
       "      <th>1</th>\n",
       "      <td>[鼓掌]西湖的梅花都开了~</td>\n",
       "      <td>positive</td>\n",
       "    </tr>\n",
       "    <tr>\n",
       "      <th>2</th>\n",
       "      <td>亲，下次再接再厉，争取拿到50%折扣哦！[嘻嘻]@嘉品餐厅</td>\n",
       "      <td>positive</td>\n",
       "    </tr>\n",
       "    <tr>\n",
       "      <th>3</th>\n",
       "      <td>只要你把好的方案提交过来，我们肯定帮你把活动搞起来啊//@岩小岩: 这个活动好！不过我有能力...</td>\n",
       "      <td>positive</td>\n",
       "    </tr>\n",
       "    <tr>\n",
       "      <th>4</th>\n",
       "      <td>@杜凯MrMiss 音乐超赞 特别是现场！求名额！！有同去的么！？[心] //@谢昱缇:请好...</td>\n",
       "      <td>positive</td>\n",
       "    </tr>\n",
       "  </tbody>\n",
       "</table>\n",
       "</div>"
      ],
      "text/plain": [
       "                                              prompt completion\n",
       "0          //@如花减肥日记：被萌死了[哈哈] 大家一起来做~猫咪广播体操~<(￣V￣)>~   positive\n",
       "1                                      [鼓掌]西湖的梅花都开了~   positive\n",
       "2                      亲，下次再接再厉，争取拿到50%折扣哦！[嘻嘻]@嘉品餐厅   positive\n",
       "3  只要你把好的方案提交过来，我们肯定帮你把活动搞起来啊//@岩小岩: 这个活动好！不过我有能力...   positive\n",
       "4  @杜凯MrMiss 音乐超赞 特别是现场！求名额！！有同去的么！？[心] //@谢昱缇:请好...   positive"
      ]
     },
     "execution_count": 24,
     "metadata": {},
     "output_type": "execute_result"
    }
   ],
   "source": [
    "texts = positive_data + negative_data\n",
    "labels = ['positive'] * 2000 + ['negative'] * 2000\n",
    "df = pd.DataFrame(zip(texts, labels), columns = ['prompt','completion'])\n",
    "df.head()\n"
   ]
  },
  {
   "cell_type": "code",
   "execution_count": 23,
   "metadata": {},
   "outputs": [],
   "source": [
    "df.to_json(\"sentiment.jsonl\", orient='records', lines=True, force_ascii=False)"
   ]
  }
 ],
 "metadata": {
  "kernelspec": {
   "display_name": "base",
   "language": "python",
   "name": "python3"
  },
  "language_info": {
   "codemirror_mode": {
    "name": "ipython",
    "version": 3
   },
   "file_extension": ".py",
   "mimetype": "text/x-python",
   "name": "python",
   "nbconvert_exporter": "python",
   "pygments_lexer": "ipython3",
   "version": "3.9.13"
  },
  "orig_nbformat": 4
 },
 "nbformat": 4,
 "nbformat_minor": 2
}
